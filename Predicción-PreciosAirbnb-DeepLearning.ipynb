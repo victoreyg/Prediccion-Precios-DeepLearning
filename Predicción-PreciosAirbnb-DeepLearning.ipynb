{
 "cells": [
  {
   "cell_type": "code",
   "execution_count": 62,
   "id": "6b90971a",
   "metadata": {},
   "outputs": [
    {
     "data": {
      "text/plain": [
       "Index(['ID', 'Listing Url', 'Scrape ID', 'Last Scraped', 'Name', 'Summary',\n",
       "       'Space', 'Description', 'Experiences Offered', 'Neighborhood Overview',\n",
       "       'Notes', 'Transit', 'Access', 'Interaction', 'House Rules',\n",
       "       'Thumbnail Url', 'Medium Url', 'Picture Url', 'XL Picture Url',\n",
       "       'Host ID', 'Host URL', 'Host Name', 'Host Since', 'Host Location',\n",
       "       'Host About', 'Host Response Time', 'Host Response Rate',\n",
       "       'Host Acceptance Rate', 'Host Thumbnail Url', 'Host Picture Url',\n",
       "       'Host Neighbourhood', 'Host Listings Count',\n",
       "       'Host Total Listings Count', 'Host Verifications', 'Street',\n",
       "       'Neighbourhood', 'Neighbourhood Cleansed',\n",
       "       'Neighbourhood Group Cleansed', 'City', 'State', 'Zipcode', 'Market',\n",
       "       'Smart Location', 'Country Code', 'Country', 'Latitude', 'Longitude',\n",
       "       'Property Type', 'Room Type', 'Accommodates', 'Bathrooms', 'Bedrooms',\n",
       "       'Beds', 'Bed Type', 'Amenities', 'Square Feet', 'Price', 'Weekly Price',\n",
       "       'Monthly Price', 'Security Deposit', 'Cleaning Fee', 'Guests Included',\n",
       "       'Extra People', 'Minimum Nights', 'Maximum Nights', 'Calendar Updated',\n",
       "       'Has Availability', 'Availability 30', 'Availability 60',\n",
       "       'Availability 90', 'Availability 365', 'Calendar last Scraped',\n",
       "       'Number of Reviews', 'First Review', 'Last Review',\n",
       "       'Review Scores Rating', 'Review Scores Accuracy',\n",
       "       'Review Scores Cleanliness', 'Review Scores Checkin',\n",
       "       'Review Scores Communication', 'Review Scores Location',\n",
       "       'Review Scores Value', 'License', 'Jurisdiction Names',\n",
       "       'Cancellation Policy', 'Calculated host listings count',\n",
       "       'Reviews per Month', 'Geolocation', 'Features'],\n",
       "      dtype='object')"
      ]
     },
     "execution_count": 62,
     "metadata": {},
     "output_type": "execute_result"
    }
   ],
   "source": [
    "# Importamos librerías\n",
    "\n",
    "import numpy as np\n",
    "import pandas as pd\n",
    "\n",
    "# Abrimos fichero\n",
    "# Introducir en path_file la ruta donde hemos descargado el fichero\n",
    "\n",
    "path_file = \"XXXXX\"\n",
    "df = pd.read_csv(path_file, sep = ';')\n",
    "\n",
    "#Visualizamos primeras filas y nombres de variables\n",
    "\n",
    "df.head(5)\n",
    "df.columns"
   ]
  },
  {
   "cell_type": "code",
   "execution_count": 63,
   "id": "2975a069",
   "metadata": {},
   "outputs": [
    {
     "data": {
      "image/png": "[encoded data removed]",
      "text/plain": [
       "<Figure size 640x480 with 1 Axes>"
      ]
     },
     "metadata": {},
     "output_type": "display_data"
    }
   ],
   "source": [
    "# Visualizamos distribución de la variable objetivo (\"Price\") para eliminar posibles outliers\n",
    "\n",
    "df[\"Price\"].hist()\n",
    "\n",
    "# Tras observar el histograma y contear el número de casos por encima de 600, decidimos señalar y eliminar como outliers todos los valores de \"Price\" por encima de 600\n",
    "\n",
    "(df[\"Price\"] > 600).sum()\n",
    "df = df[df[\"Price\"] <= 600]"
   ]
  },
  {
   "cell_type": "code",
   "execution_count": 64,
   "id": "b749f5e3",
   "metadata": {},
   "outputs": [],
   "source": [
    "# Obtenemos los percentiles 33.33 y 66.66 de la distribución de \"Price\" para establecer los cortes que determinarán las categorías a predecir de nuestra nueva variable objetivo (\"price_range\")\n",
    "\n",
    "price_range = []\n",
    "\n",
    "for price in df[\"Price\"]:\n",
    "    if price <= df[\"Price\"].quantile(0.3333):\n",
    "        price_range.append(1)\n",
    "    elif price <= df[\"Price\"].quantile(0.6666):\n",
    "        price_range.append(2) \n",
    "    else:\n",
    "        price_range.append(3)\n",
    "\n",
    "df[\"price_range\"] = pd.Series(price_range, index = df.index)"
   ]
  },
  {
   "cell_type": "code",
   "execution_count": 65,
   "id": "7f1c096a",
   "metadata": {
    "scrolled": true
   },
   "outputs": [],
   "source": [
    "# Importamos librerías\n",
    "\n",
    "from sklearn.model_selection import train_test_split\n",
    "\n",
    "# Reseteamos índices para conservar en las particiones los índices del df previo al split\n",
    "\n",
    "df.reset_index(drop=True, inplace=True)\n",
    "\n",
    "# Dividimos en train y test\n",
    "\n",
    "train_x, test_x, train_y, test_y = train_test_split(df.iloc[:,:-1], df.iloc[:,-1],\n",
    "                                                      test_size=0.25,\n",
    "                                                      random_state=17,\n",
    "                                                      shuffle=True,\n",
    "                                                      stratify=df.iloc[:,-1])"
   ]
  },
  {
   "cell_type": "code",
   "execution_count": 66,
   "id": "555f7516",
   "metadata": {},
   "outputs": [],
   "source": [
    "# Arrancamos el preprocesado de datos\n",
    "# Empezamos eligiendo las variables a utilizar. Visualizo la totalidad de variables, cambiando el display por defecto para poder visualizar todas las columnas y su (tipo de) contenido\n",
    "\n",
    "pd.set_option('display.max_columns', None)\n",
    "train_x.head(15)\n",
    "\n",
    "# La selección de variables es, en este sentido, manual. Como criterio se han escogido variables numéricas y categóricas que tengan potencial aporte en un modelo de clasifiación. Se han excluido de esta selección las variables que por su naturaleza (id's, url´s, campos de texto abiertos de carácter descriptivo/comentarios, variables repetidas o redundantes) no son útilies para resolver un problema de clasificación\n",
    "\n",
    "train_x_vars = ['Zipcode', 'Market', 'Country Code', 'Property Type', 'Room Type', 'Accommodates', 'Bathrooms', 'Bedrooms', 'Beds', 'Bed Type', 'Square Feet', 'Guests Included', 'Minimum Nights', 'Maximum Nights', 'Number of Reviews', 'Review Scores Rating', 'Review Scores Accuracy', 'Review Scores Cleanliness', 'Review Scores Checkin', 'Review Scores Communication', 'Review Scores Location', 'Review Scores Value', 'Cancellation Policy', 'Calculated host listings count']\n",
    "\n",
    "train_x = train_x[train_x_vars]"
   ]
  },
  {
   "cell_type": "code",
   "execution_count": 67,
   "id": "b4cdb3ac",
   "metadata": {
    "scrolled": true
   },
   "outputs": [
    {
     "data": {
      "text/plain": [
       "Zipcode                           523\n",
       "Market                             39\n",
       "Country Code                       18\n",
       "Property Type                      21\n",
       "Room Type                           3\n",
       "Accommodates                       16\n",
       "Bathrooms                          16\n",
       "Bedrooms                           10\n",
       "Beds                               16\n",
       "Bed Type                            5\n",
       "Square Feet                        91\n",
       "Guests Included                    15\n",
       "Minimum Nights                     39\n",
       "Maximum Nights                    148\n",
       "Number of Reviews                 252\n",
       "Review Scores Rating               52\n",
       "Review Scores Accuracy              9\n",
       "Review Scores Cleanliness           9\n",
       "Review Scores Checkin               9\n",
       "Review Scores Communication         8\n",
       "Review Scores Location              8\n",
       "Review Scores Value                 9\n",
       "Cancellation Policy                 8\n",
       "Calculated host listings count     45\n",
       "dtype: int64"
      ]
     },
     "execution_count": 67,
     "metadata": {},
     "output_type": "execute_result"
    }
   ],
   "source": [
    "# Visualizamos NA's y valores únicos para seguir con la selección de variables y el preprocesado\n",
    "\n",
    "train_x.isnull().sum()\n",
    "train_x.nunique()"
   ]
  },
  {
   "cell_type": "code",
   "execution_count": 68,
   "id": "e1989262",
   "metadata": {},
   "outputs": [],
   "source": [
    "# Tras visualizar decidimos eliminar la variable \"Square Feet\" por tener casi la totalidad de valores en NaN\n",
    "\n",
    "train_x = train_x.drop(\"Square Feet\", axis = 1)\n",
    "\n",
    "# Para el resto de variables, en el caso de las categóricas imputamos \"Others\" y en el caso de las numéricas imputamos a sus respectivas medias\n",
    "# Guardo, antes de imputar NA's, una copia de train_x que utilizaré posteriormente\n",
    "\n",
    "train_x_formeanimputation = train_x\n",
    "\n",
    "for var in train_x.columns:\n",
    "    if train_x[var].dtypes == object:\n",
    "        train_x[var] = train_x[var].fillna(\"Others\")\n",
    "    else:\n",
    "        train_x[var] = train_x[var].fillna(train_x[var].mean())\n",
    "\n",
    "# Además, con objeto simplificar el modelo y trabajar con datos que nos resulten más cercanos, filtramos el dataframe para quedarnos sólo con casos de España\n",
    "\n",
    "train_x = train_x[train_x['Country Code'] == 'ES']"
   ]
  },
  {
   "cell_type": "code",
   "execution_count": 69,
   "id": "97cf8069",
   "metadata": {},
   "outputs": [],
   "source": [
    "# Covertimos ahora todas las variables categóricas a one-hot para poder procesarlas numéricamente\n",
    "\n",
    "categorical_vars = list(var for var in train_x if train_x[var].dtypes == object)\n",
    "numerical_vars = list(var for var in train_x if train_x[var].dtypes != object) \n",
    "train_x = pd.get_dummies(train_x, columns = categorical_vars)\n",
    "\n",
    "# Añadimos una categoría \"_Others\" a cada una de las variables categóricas. Como veremos más abajo servirá para garantizar presencia de las mismas variables en train y test, asimilando ambos conjuntos\n",
    "\n",
    "for var in categorical_vars:\n",
    "    train_x[var+\"_Others\"] = 0"
   ]
  },
  {
   "cell_type": "code",
   "execution_count": 70,
   "id": "3fc7640f",
   "metadata": {},
   "outputs": [],
   "source": [
    "# Hacemos todas las transformaciones de train_x en el dataframe de test_x\n",
    "\n",
    "# Seleccionamos las variables que vamos a usar\n",
    "\n",
    "test_x = test_x[train_x_vars]\n",
    "\n",
    "# Eliminamos la variable \"Square Feet\"\n",
    "\n",
    "test_x = test_x.drop(\"Square Feet\", axis = 1)\n",
    "\n",
    "# Procesamos los NA's de las variables categóricas y numéricas (imputando a las medias de train)\n",
    "\n",
    "for var in test_x.columns:\n",
    "    if test_x[var].dtypes == object:\n",
    "        test_x[var] = test_x[var].fillna(\"Others\")\n",
    "    else:\n",
    "        test_x[var] = test_x[var].fillna(train_x_formeanimputation[var].mean())\n",
    "\n",
    "# Filtramos el dataframe para quedarnos sólo con casos de España\n",
    "\n",
    "test_x = test_x[test_x['Country Code'] == 'ES']\n",
    "\n",
    "# Convertimos las variables categóricas a one-hot\n",
    "\n",
    "test_x = pd.get_dummies(test_x, columns = categorical_vars)"
   ]
  },
  {
   "cell_type": "code",
   "execution_count": 71,
   "id": "eac78e53",
   "metadata": {},
   "outputs": [
    {
     "name": "stderr",
     "output_type": "stream",
     "text": [
      "C:\\Users\\Victor\\AppData\\Local\\Temp\\ipykernel_10120\\4253091624.py:10: PerformanceWarning: DataFrame is highly fragmented.  This is usually the result of calling `frame.insert` many times, which has poor performance.  Consider joining all columns at once using pd.concat(axis=1) instead. To get a de-fragmented frame, use `newframe = frame.copy()`\n",
      "  test_x[var+\"_Others\"] = 1\n",
      "C:\\Users\\Victor\\AppData\\Local\\Temp\\ipykernel_10120\\4253091624.py:10: PerformanceWarning: DataFrame is highly fragmented.  This is usually the result of calling `frame.insert` many times, which has poor performance.  Consider joining all columns at once using pd.concat(axis=1) instead. To get a de-fragmented frame, use `newframe = frame.copy()`\n",
      "  test_x[var+\"_Others\"] = 1\n",
      "C:\\Users\\Victor\\AppData\\Local\\Temp\\ipykernel_10120\\4253091624.py:10: PerformanceWarning: DataFrame is highly fragmented.  This is usually the result of calling `frame.insert` many times, which has poor performance.  Consider joining all columns at once using pd.concat(axis=1) instead. To get a de-fragmented frame, use `newframe = frame.copy()`\n",
      "  test_x[var+\"_Others\"] = 1\n",
      "C:\\Users\\Victor\\AppData\\Local\\Temp\\ipykernel_10120\\4253091624.py:10: PerformanceWarning: DataFrame is highly fragmented.  This is usually the result of calling `frame.insert` many times, which has poor performance.  Consider joining all columns at once using pd.concat(axis=1) instead. To get a de-fragmented frame, use `newframe = frame.copy()`\n",
      "  test_x[var+\"_Others\"] = 1\n",
      "C:\\Users\\Victor\\AppData\\Local\\Temp\\ipykernel_10120\\4253091624.py:10: PerformanceWarning: DataFrame is highly fragmented.  This is usually the result of calling `frame.insert` many times, which has poor performance.  Consider joining all columns at once using pd.concat(axis=1) instead. To get a de-fragmented frame, use `newframe = frame.copy()`\n",
      "  test_x[var+\"_Others\"] = 1\n",
      "C:\\Users\\Victor\\AppData\\Local\\Temp\\ipykernel_10120\\4253091624.py:10: PerformanceWarning: DataFrame is highly fragmented.  This is usually the result of calling `frame.insert` many times, which has poor performance.  Consider joining all columns at once using pd.concat(axis=1) instead. To get a de-fragmented frame, use `newframe = frame.copy()`\n",
      "  test_x[var+\"_Others\"] = 1\n",
      "C:\\Users\\Victor\\AppData\\Local\\Temp\\ipykernel_10120\\4253091624.py:10: PerformanceWarning: DataFrame is highly fragmented.  This is usually the result of calling `frame.insert` many times, which has poor performance.  Consider joining all columns at once using pd.concat(axis=1) instead. To get a de-fragmented frame, use `newframe = frame.copy()`\n",
      "  test_x[var+\"_Others\"] = 1\n",
      "C:\\Users\\Victor\\AppData\\Local\\Temp\\ipykernel_10120\\4253091624.py:10: PerformanceWarning: DataFrame is highly fragmented.  This is usually the result of calling `frame.insert` many times, which has poor performance.  Consider joining all columns at once using pd.concat(axis=1) instead. To get a de-fragmented frame, use `newframe = frame.copy()`\n",
      "  test_x[var+\"_Others\"] = 1\n",
      "C:\\Users\\Victor\\AppData\\Local\\Temp\\ipykernel_10120\\4253091624.py:10: PerformanceWarning: DataFrame is highly fragmented.  This is usually the result of calling `frame.insert` many times, which has poor performance.  Consider joining all columns at once using pd.concat(axis=1) instead. To get a de-fragmented frame, use `newframe = frame.copy()`\n",
      "  test_x[var+\"_Others\"] = 1\n",
      "C:\\Users\\Victor\\AppData\\Local\\Temp\\ipykernel_10120\\4253091624.py:10: PerformanceWarning: DataFrame is highly fragmented.  This is usually the result of calling `frame.insert` many times, which has poor performance.  Consider joining all columns at once using pd.concat(axis=1) instead. To get a de-fragmented frame, use `newframe = frame.copy()`\n",
      "  test_x[var+\"_Others\"] = 1\n",
      "C:\\Users\\Victor\\AppData\\Local\\Temp\\ipykernel_10120\\4253091624.py:10: PerformanceWarning: DataFrame is highly fragmented.  This is usually the result of calling `frame.insert` many times, which has poor performance.  Consider joining all columns at once using pd.concat(axis=1) instead. To get a de-fragmented frame, use `newframe = frame.copy()`\n",
      "  test_x[var+\"_Others\"] = 1\n",
      "C:\\Users\\Victor\\AppData\\Local\\Temp\\ipykernel_10120\\4253091624.py:10: PerformanceWarning: DataFrame is highly fragmented.  This is usually the result of calling `frame.insert` many times, which has poor performance.  Consider joining all columns at once using pd.concat(axis=1) instead. To get a de-fragmented frame, use `newframe = frame.copy()`\n",
      "  test_x[var+\"_Others\"] = 1\n",
      "C:\\Users\\Victor\\AppData\\Local\\Temp\\ipykernel_10120\\4253091624.py:10: PerformanceWarning: DataFrame is highly fragmented.  This is usually the result of calling `frame.insert` many times, which has poor performance.  Consider joining all columns at once using pd.concat(axis=1) instead. To get a de-fragmented frame, use `newframe = frame.copy()`\n",
      "  test_x[var+\"_Others\"] = 1\n"
     ]
    }
   ],
   "source": [
    "# Apoyándonos en las categorías \"var+_Others\" (añadidas más arriba) creamos, eliminamos y transformamos variables para asimilar los conjuntos de train y test\n",
    "\n",
    "vars_no_incommon_train = [var for var in train_x.columns if var not in test_x.columns]\n",
    "vars_no_incommon_test = [var for var in test_x.columns if var not in train_x.columns]\n",
    "\n",
    "for var in vars_no_incommon_train:\n",
    "    test_x[var] = 0\n",
    "for var in vars_no_incommon_test:\n",
    "    test_x.drop(var, axis = 1, inplace = True)\n",
    "    test_x[var+\"_Others\"] = 1\n",
    "\n",
    "train_x_columnssorted = sorted(train_x.columns)\n",
    "train_x = train_x[train_x_columnssorted]\n",
    "test_x = test_x[train_x_columnssorted]"
   ]
  },
  {
   "cell_type": "code",
   "execution_count": 72,
   "id": "1eef55b7",
   "metadata": {},
   "outputs": [],
   "source": [
    "# Ya hemos finalizado con el dropeo de variables y casos, así que filtramos train_y y test_y para los casos seleccionados (no eliminados durante el preprocesamiento) en train_x y test_x\n",
    "\n",
    "train_y = train_y.loc[train_x.index]                     \n",
    "test_y = test_y.loc[test_x.index]"
   ]
  },
  {
   "cell_type": "code",
   "execution_count": 73,
   "id": "f57983b5",
   "metadata": {},
   "outputs": [],
   "source": [
    "# Normalizamos las variables, sólo las originalmente numéricas (no one-hot)\n",
    "# Subdividimos train_x entre variables a normalizar y las que no normalizaremos\n",
    "\n",
    "train_x_tonorm = train_x[numerical_vars]\n",
    "train_x_notnorm = train_x.drop(numerical_vars, axis = 1)\n",
    "\n",
    "# Después normalizamos\n",
    "\n",
    "from sklearn.preprocessing import StandardScaler\n",
    "scaler_X = StandardScaler().fit(train_x_tonorm)\n",
    "train_x_normalized = scaler_X.transform(train_x_tonorm)\n",
    "\n",
    "# Por último volvemos a unir el train_x con las variables normalizadas y las no-normalizadas\n",
    "\n",
    "train_x_notnorm = train_x_notnorm.values\n",
    "train_x = np.concatenate([train_x_normalized, train_x_notnorm], axis = 1)"
   ]
  },
  {
   "cell_type": "code",
   "execution_count": 74,
   "id": "caad6bed",
   "metadata": {},
   "outputs": [],
   "source": [
    "# Hacemos lo mismo en test, con la normalización (scaler) de train\n",
    "\n",
    "test_x_tonorm = test_x[numerical_vars]\n",
    "test_x_notnorm = test_x.drop(numerical_vars, axis = 1)\n",
    "\n",
    "test_x_normalized = scaler_X.transform(test_x_tonorm)\n",
    "\n",
    "test_x_notnorm = test_x_notnorm.values\n",
    "test_x = np.concatenate([test_x_normalized, test_x_notnorm], axis = 1)"
   ]
  },
  {
   "cell_type": "code",
   "execution_count": 75,
   "id": "f1939a16",
   "metadata": {},
   "outputs": [],
   "source": [
    "# Importamos librerías\n",
    "\n",
    "from sklearn.preprocessing import MinMaxScaler \n",
    "\n",
    "# Vamos a (re)normalizar todo entre 0 y 1\n",
    "\n",
    "mm_scaler = MinMaxScaler()\n",
    "\n",
    "train_x = pd.DataFrame(mm_scaler.fit_transform(train_x))\n",
    "test_x = pd.DataFrame(mm_scaler.transform(test_x))\n",
    "\n",
    "# Por último convertimos la variable objetivo (\"price_range\") a one-hot para poder procesarla en nuestro modelo \n",
    "\n",
    "train_y_cls = pd.get_dummies(train_y)                      \n",
    "test_y_cls = pd.get_dummies(test_y)"
   ]
  },
  {
   "cell_type": "code",
   "execution_count": 76,
   "id": "4aa1f396",
   "metadata": {
    "scrolled": true
   },
   "outputs": [
    {
     "name": "stdout",
     "output_type": "stream",
     "text": [
      "Input size: 248\n",
      "Model: \"sequential_3\"\n",
      "_________________________________________________________________\n",
      " Layer (type)                Output Shape              Param #   \n",
      "=================================================================\n",
      " dense_12 (Dense)            (None, 64)                15936     \n",
      "                                                                 \n",
      " dense_13 (Dense)            (None, 32)                2080      \n",
      "                                                                 \n",
      " dense_14 (Dense)            (None, 8)                 264       \n",
      "                                                                 \n",
      " dense_15 (Dense)            (None, 3)                 27        \n",
      "                                                                 \n",
      "=================================================================\n",
      "Total params: 18307 (71.51 KB)\n",
      "Trainable params: 18307 (71.51 KB)\n",
      "Non-trainable params: 0 (0.00 Byte)\n",
      "_________________________________________________________________\n"
     ]
    }
   ],
   "source": [
    "# Importamos librerías\n",
    "\n",
    "from tensorflow.keras.models import Sequential\n",
    "from tensorflow.keras.layers import Dense\n",
    "\n",
    "# Creamos un modelo de deep learning adecuado para un problema de clasificación\n",
    "\n",
    "print(f\"Input size: {train_x.shape[1]}\")\n",
    "\n",
    "nb_out = train_y_cls.shape[1]\n",
    "\n",
    "classifier1 = Sequential()\n",
    "classifier1.add(Dense(64, input_shape=(train_x.shape[1],), activation='relu'))\n",
    "classifier1.add(Dense(32, activation='relu'))\n",
    "classifier1.add(Dense(8, activation='relu'))\n",
    "classifier1.add(Dense(nb_out, activation='softmax'))\n",
    "\n",
    "classifier1.compile(loss='categorical_crossentropy', optimizer='adam',\n",
    "              metrics=['accuracy'])\n",
    "\n",
    "classifier1.summary()"
   ]
  },
  {
   "cell_type": "code",
   "execution_count": 77,
   "id": "c39e61a9",
   "metadata": {
    "scrolled": true
   },
   "outputs": [
    {
     "name": "stdout",
     "output_type": "stream",
     "text": [
      "Epoch 1/30\n",
      "164/164 - 1s - loss: 0.8084 - accuracy: 0.6135 - 1s/epoch - 7ms/step\n",
      "Epoch 2/30\n",
      "164/164 - 0s - loss: 0.6415 - accuracy: 0.7377 - 397ms/epoch - 2ms/step\n",
      "Epoch 3/30\n",
      "164/164 - 0s - loss: 0.6090 - accuracy: 0.7469 - 355ms/epoch - 2ms/step\n",
      "Epoch 4/30\n",
      "164/164 - 0s - loss: 0.5914 - accuracy: 0.7566 - 360ms/epoch - 2ms/step\n",
      "Epoch 5/30\n",
      "164/164 - 0s - loss: 0.5807 - accuracy: 0.7601 - 365ms/epoch - 2ms/step\n",
      "Epoch 6/30\n",
      "164/164 - 0s - loss: 0.5710 - accuracy: 0.7634 - 359ms/epoch - 2ms/step\n",
      "Epoch 7/30\n",
      "164/164 - 0s - loss: 0.5641 - accuracy: 0.7633 - 359ms/epoch - 2ms/step\n",
      "Epoch 8/30\n",
      "164/164 - 0s - loss: 0.5591 - accuracy: 0.7698 - 360ms/epoch - 2ms/step\n",
      "Epoch 9/30\n",
      "164/164 - 0s - loss: 0.5522 - accuracy: 0.7706 - 359ms/epoch - 2ms/step\n",
      "Epoch 10/30\n",
      "164/164 - 0s - loss: 0.5513 - accuracy: 0.7713 - 359ms/epoch - 2ms/step\n",
      "Epoch 11/30\n",
      "164/164 - 0s - loss: 0.5441 - accuracy: 0.7717 - 364ms/epoch - 2ms/step\n",
      "Epoch 12/30\n",
      "164/164 - 0s - loss: 0.5439 - accuracy: 0.7737 - 358ms/epoch - 2ms/step\n",
      "Epoch 13/30\n",
      "164/164 - 0s - loss: 0.5416 - accuracy: 0.7750 - 359ms/epoch - 2ms/step\n",
      "Epoch 14/30\n",
      "164/164 - 0s - loss: 0.5353 - accuracy: 0.7758 - 358ms/epoch - 2ms/step\n",
      "Epoch 15/30\n",
      "164/164 - 0s - loss: 0.5301 - accuracy: 0.7786 - 372ms/epoch - 2ms/step\n",
      "Epoch 16/30\n",
      "164/164 - 0s - loss: 0.5266 - accuracy: 0.7794 - 356ms/epoch - 2ms/step\n",
      "Epoch 17/30\n",
      "164/164 - 0s - loss: 0.5245 - accuracy: 0.7812 - 358ms/epoch - 2ms/step\n",
      "Epoch 18/30\n",
      "164/164 - 0s - loss: 0.5171 - accuracy: 0.7856 - 358ms/epoch - 2ms/step\n",
      "Epoch 19/30\n",
      "164/164 - 0s - loss: 0.5159 - accuracy: 0.7841 - 360ms/epoch - 2ms/step\n",
      "Epoch 20/30\n",
      "164/164 - 0s - loss: 0.5164 - accuracy: 0.7842 - 358ms/epoch - 2ms/step\n",
      "Epoch 21/30\n",
      "164/164 - 0s - loss: 0.5155 - accuracy: 0.7855 - 358ms/epoch - 2ms/step\n",
      "Epoch 22/30\n",
      "164/164 - 0s - loss: 0.5094 - accuracy: 0.7857 - 360ms/epoch - 2ms/step\n",
      "Epoch 23/30\n",
      "164/164 - 0s - loss: 0.5060 - accuracy: 0.7881 - 367ms/epoch - 2ms/step\n",
      "Epoch 24/30\n",
      "164/164 - 0s - loss: 0.5062 - accuracy: 0.7873 - 360ms/epoch - 2ms/step\n",
      "Epoch 25/30\n",
      "164/164 - 0s - loss: 0.4989 - accuracy: 0.7896 - 359ms/epoch - 2ms/step\n",
      "Epoch 26/30\n",
      "164/164 - 0s - loss: 0.4996 - accuracy: 0.7916 - 358ms/epoch - 2ms/step\n",
      "Epoch 27/30\n",
      "164/164 - 0s - loss: 0.5004 - accuracy: 0.7884 - 358ms/epoch - 2ms/step\n",
      "Epoch 28/30\n",
      "164/164 - 0s - loss: 0.4948 - accuracy: 0.7910 - 361ms/epoch - 2ms/step\n",
      "Epoch 29/30\n",
      "164/164 - 0s - loss: 0.4908 - accuracy: 0.7925 - 354ms/epoch - 2ms/step\n",
      "Epoch 30/30\n",
      "164/164 - 0s - loss: 0.4890 - accuracy: 0.7949 - 357ms/epoch - 2ms/step\n"
     ]
    }
   ],
   "source": [
    "# Entrenamos el modelo con epochs y batch_size fijos\n",
    "\n",
    "EPOCHS = 30\n",
    "BS = 64\n",
    "\n",
    "H = classifier1.fit(x = train_x, y = train_y_cls, batch_size=BS, epochs=EPOCHS, \n",
    "                     shuffle=True, verbose=2)"
   ]
  },
  {
   "cell_type": "code",
   "execution_count": 78,
   "id": "9757597e",
   "metadata": {},
   "outputs": [
    {
     "data": {
      "text/plain": [
       "[]"
      ]
     },
     "execution_count": 78,
     "metadata": {},
     "output_type": "execute_result"
    },
    {
     "data": {
      "image/png": "[encoded data removed]",
      "text/plain": [
       "<Figure size 640x480 with 1 Axes>"
      ]
     },
     "metadata": {},
     "output_type": "display_data"
    }
   ],
   "source": [
    "# Importamos librerías\n",
    "\n",
    "import matplotlib.pyplot as plt\n",
    "\n",
    "# Visualizamos las curvas de aprendizaje\n",
    "\n",
    "plt.plot(H.history['loss'], label='train loss')\n",
    "plt.plot(H.history['accuracy'], label='train acc')\n",
    "plt.legend()\n",
    "plt.xlabel('Epoch')\n",
    "plt.plot()"
   ]
  },
  {
   "cell_type": "code",
   "execution_count": 79,
   "id": "56c5cf7d",
   "metadata": {},
   "outputs": [
    {
     "name": "stdout",
     "output_type": "stream",
     "text": [
      "110/110 [==============================] - 0s 2ms/step - loss: 0.6448 - accuracy: 0.7481\n",
      "Loss=0.6448144912719727, Acc=0.7481417655944824\n"
     ]
    }
   ],
   "source": [
    "# Damos por bueno el entrenamiento del modelo y, para finalizar, lo evaluamos con el conjunto de test e imprimimos métricas\n",
    "\n",
    "loss, acc = classifier1.evaluate(test_x, test_y_cls)\n",
    "print(f'Loss={loss}, Acc={acc}')"
   ]
  },
  {
   "cell_type": "markdown",
   "id": "5dd31dc7",
   "metadata": {},
   "source": [
    "## A modo de conclusiones\n",
    "\n",
    "Queda demostrado que un modelo sencillo, y computacionalmente ligero, de deep learning consigue alcanzar métricas muy elevadas con un accuracy cercano al 0.75. Parece razonable pensar, aunque no sea objeto de este script, que aumentando epochs y batch size o añadiendo capas dropout al modelo para optimizar su regularización obtendríamos mejores métricas."
   ]
  }
 ],
 "metadata": {
  "kernelspec": {
   "display_name": "Python 3 (ipykernel)",
   "language": "python",
   "name": "python3"
  },
  "language_info": {
   "codemirror_mode": {
    "name": "ipython",
    "version": 3
   },
   "file_extension": ".py",
   "mimetype": "text/x-python",
   "name": "python",
   "nbconvert_exporter": "python",
   "pygments_lexer": "ipython3",
   "version": "3.9.13"
  }
 },
 "nbformat": 4,
 "nbformat_minor": 5
}
